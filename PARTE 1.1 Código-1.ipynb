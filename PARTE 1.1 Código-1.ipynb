{
 "cells": [
  {
   "cell_type": "code",
   "execution_count": 9,
   "metadata": {},
   "outputs": [
    {
     "name": "stdout",
     "output_type": "stream",
     "text": [
      "TESTANDO ROBÔ: \n",
      "[[1 1]]\n",
      "anda em linha reta\n"
     ]
    }
   ],
   "source": [
    "# -*- coding: utf-8 -*-\n",
    "\"\"\"\n",
    "Created on Thu May 19 19:56:04 2023\n",
    "\n",
    "\"\"\"\n",
    "import matplotlib.pyplot as plt\n",
    "import numpy as np\n",
    "import random\n",
    "from sklearn.neural_network import MLPClassifier\n",
    "from sklearn.datasets import make_classification\n",
    "from sklearn.model_selection import train_test_split\n",
    "# ENTRADAS Distância []\n",
    "\n",
    "# 1 na primeira casa indica se a distância está inferior é < 30 cm.\n",
    "#[0.,0.,0.] - Ambos sensores fora de alcance, anda em linha reta.\n",
    "#[1.,1.,0.] - número 1 segunda casa, objeto identificado pelo sensor da esquerda D1 , virar para a direita\n",
    "#[1.,0.,1.] - número 1 terceira casa, objeto identificado pelo sensor da direita D2 , virar para a esquerda\n",
    "#[0.,1.,0.] - número 1 segunda casa, objeto identificado pelo sensor da esquerda, mas  D1 >30cm\n",
    "#[0.,0.,1.] - número 1 terceira casa, objeto identificado pelo sensor da esquerda, mas  D2 > 30 cm\n",
    "#[0.,0.,0.] - Ambos sensores fora de alcance, anda em linha reta.\n",
    "#[0.,1.,1.] - Ambos sensores detectaram o obstáculo - desliga para evitar colisão\n",
    "\n",
    "X=[ [0.,0.,0.] ,[1.,1.,0.] ,[1.,0.,1.], [0.,0.,1.], [1.,1.,1.], [0.,0.,0.], [0.,1.,1.]]\n",
    "\n",
    "# SAÍDAS\n",
    "y1= [[1.,1.],[0.,1.],[1.,0.],[1.,1.],[1.,1.],[1.,1.],[0.,0.]]\n",
    "\n",
    "clf1 = MLPClassifier(solver='lbfgs',activation='logistic', alpha=1e-5,hidden_layer_sizes=(10,10), random_state=1)\n",
    "clf1.fit(X, y1)\n",
    "\n",
    "MSG=[\"anda em linha reta\", \"virar para a direita\", \"virar para a esquerda\",\"anda em linha reta\", \"anda em linha reta\", \"anda em linha reta,\", \"desliga o robô\"]\n",
    "\n",
    "T= [0.,0.,0.]\n",
    "\n",
    "\n",
    "# TESTANDO\n",
    "print(\"TESTANDO ROBÔ: \")\n",
    "print(clf1.predict([T]))\n",
    "print(MSG[X.index(T)])\n"
   ]
  },
  {
   "cell_type": "code",
   "execution_count": 12,
   "metadata": {},
   "outputs": [
    {
     "name": "stdout",
     "output_type": "stream",
     "text": [
      "TESTANDO ROBÔ: \n",
      "[[0 1]]\n",
      "virar para a direita\n"
     ]
    }
   ],
   "source": [
    "T= [1.,1.,0.]\n",
    "\n",
    "\n",
    "# TESTANDO\n",
    "print(\"TESTANDO ROBÔ: \")\n",
    "print(clf1.predict([T]))\n",
    "print(MSG[X.index(T)])"
   ]
  }
 ],
 "metadata": {
  "kernelspec": {
   "display_name": "Python 3",
   "language": "python",
   "name": "python3"
  },
  "language_info": {
   "codemirror_mode": {
    "name": "ipython",
    "version": 3
   },
   "file_extension": ".py",
   "mimetype": "text/x-python",
   "name": "python",
   "nbconvert_exporter": "python",
   "pygments_lexer": "ipython3",
   "version": "3.11.2"
  },
  "orig_nbformat": 4
 },
 "nbformat": 4,
 "nbformat_minor": 2
}
