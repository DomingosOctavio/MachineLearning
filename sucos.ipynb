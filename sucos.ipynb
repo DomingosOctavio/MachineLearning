{
 "cells": [
  {
   "cell_type": "code",
   "execution_count": 11,
   "metadata": {},
   "outputs": [
    {
     "name": "stdout",
     "output_type": "stream",
     "text": [
      "TESTANDO REDE T: \n",
      "[[0 0 0 0]]\n",
      "DESLIGADO\n"
     ]
    }
   ],
   "source": [
    "# -*- coding: utf-8 -*-\n",
    "\"\"\"\n",
    "Created on Thu May 19 19:56:04 2023\n",
    "\n",
    "\"\"\"\n",
    "import matplotlib.pyplot as plt\n",
    "import numpy as np\n",
    "import random\n",
    "from sklearn.neural_network import MLPClassifier\n",
    "from sklearn.datasets import make_classification\n",
    "from sklearn.model_selection import train_test_split\n",
    "# ENTRADAS \n",
    "# SP1 SF\n",
    "X=[ [0.,1] ,[0.,0.] ,[1.,0.], [1.,1.]]\n",
    "\n",
    "# SAÍDAS\n",
    "y1= [[0.,0.,0.,0.],[1.,0.,1.,0.],[1.,1.,0.,0.],[1.,1.,1.,0.]]\n",
    "\n",
    "clf1 = MLPClassifier(solver='lbfgs',activation='logistic', alpha=1e-5,hidden_layer_sizes=(450,450), random_state=1)\n",
    "clf1.fit(X, y1)\n",
    "\n",
    "MSG=[\"DESLIGADO\", \"ENVAZAR GOIABA\", \"ENVAZAR MANGA\",\"ATIVAR HORTELÃ\"]\n",
    "\n",
    "T= [0.,1.]\n",
    "\n",
    "#TESTANDO\n",
    "\n",
    "# TESTANDO\n",
    "print(\"TESTANDO REDE T: \")\n",
    "print(clf1.predict([T]))\n",
    "print(MSG[X.index(T)])\n",
    "\n",
    "\n",
    "\n",
    "    "
   ]
  }
 ],
 "metadata": {
  "kernelspec": {
   "display_name": "Python 3",
   "language": "python",
   "name": "python3"
  },
  "language_info": {
   "codemirror_mode": {
    "name": "ipython",
    "version": 3
   },
   "file_extension": ".py",
   "mimetype": "text/x-python",
   "name": "python",
   "nbconvert_exporter": "python",
   "pygments_lexer": "ipython3",
   "version": "3.10.10"
  },
  "orig_nbformat": 4
 },
 "nbformat": 4,
 "nbformat_minor": 2
}
